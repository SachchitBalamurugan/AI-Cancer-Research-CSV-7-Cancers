{
 "cells": [
  {
   "cell_type": "code",
   "execution_count": null,
   "id": "5aa59ba6-ca9f-4bd5-bf32-e8140ec0078a",
   "metadata": {
    "tags": []
   },
   "outputs": [
    {
     "name": "stdout",
     "output_type": "stream",
     "text": [
      "Found 3482 images belonging to 2 classes.\n",
      "Found 870 images belonging to 2 classes.\n",
      "Epoch 1/10\n",
      " 95/109 [=========================>....] - ETA: 52s - loss: 0.6280 - accuracy: 0.7367"
     ]
    },
    {
     "name": "stderr",
     "output_type": "stream",
     "text": [
      "C:\\Users\\balam\\anaconda3\\Lib\\site-packages\\PIL\\Image.py:975: UserWarning: Palette images with Transparency expressed in bytes should be converted to RGBA images\n",
      "  warnings.warn(\n"
     ]
    },
    {
     "name": "stdout",
     "output_type": "stream",
     "text": [
      "109/109 [==============================] - 509s 5s/step - loss: 0.5955 - accuracy: 0.7487 - val_loss: 0.5008 - val_accuracy: 0.7575\n",
      "Epoch 2/10\n",
      " 17/109 [===>..........................] - ETA: 7:24 - loss: 0.3685 - accuracy: 0.8254"
     ]
    }
   ],
   "source": [
    "from tensorflow.keras.applications import VGG16\n",
    "from tensorflow.keras.models import Sequential\n",
    "from tensorflow.keras.layers import Dense, Flatten, Dropout\n",
    "from tensorflow.keras.preprocessing.image import ImageDataGenerator\n",
    "\n",
    "# Data generators\n",
    "data_gen = ImageDataGenerator(rescale=1./255, validation_split=0.2)\n",
    "train_gen = data_gen.flow_from_directory(\n",
    "    'C:/Users/balam/Documents/AIcancerACC/7 Cancers/data/',\n",
    "    target_size=(224, 224),\n",
    "    batch_size=32,\n",
    "    class_mode='binary',\n",
    "    subset='training')\n",
    "val_gen = data_gen.flow_from_directory(\n",
    "    'C:/Users/balam/Documents/AIcancerACC/7 Cancers/data/',\n",
    "    target_size=(224, 224),\n",
    "    batch_size=32,\n",
    "    class_mode='binary',\n",
    "    subset='validation')\n",
    "\n",
    "# VGG16 model\n",
    "base_model = VGG16(weights='imagenet', include_top=False, input_shape=(224, 224, 3))\n",
    "base_model.trainable = False\n",
    "\n",
    "model = Sequential([\n",
    "    base_model,\n",
    "    Flatten(),\n",
    "    Dense(128, activation='relu'),\n",
    "    Dropout(0.5),\n",
    "    Dense(1, activation='sigmoid')\n",
    "])\n",
    "\n",
    "model.compile(optimizer='adam', loss='binary_crossentropy', metrics=['accuracy'])\n",
    "model.fit(train_gen, validation_data=val_gen, epochs=10)\n"
   ]
  },
  {
   "cell_type": "code",
   "execution_count": null,
   "id": "d9662e9b-4624-4b82-aad6-65c7195e06bc",
   "metadata": {},
   "outputs": [],
   "source": []
  }
 ],
 "metadata": {
  "kernelspec": {
   "display_name": "Python 3 (ipykernel)",
   "language": "python",
   "name": "python3"
  },
  "language_info": {
   "codemirror_mode": {
    "name": "ipython",
    "version": 3
   },
   "file_extension": ".py",
   "mimetype": "text/x-python",
   "name": "python",
   "nbconvert_exporter": "python",
   "pygments_lexer": "ipython3",
   "version": "3.11.3"
  }
 },
 "nbformat": 4,
 "nbformat_minor": 5
}
