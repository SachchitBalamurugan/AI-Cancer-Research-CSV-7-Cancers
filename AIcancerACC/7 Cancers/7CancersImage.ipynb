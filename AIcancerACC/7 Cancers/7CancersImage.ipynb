{
 "cells": [
  {
   "cell_type": "code",
   "execution_count": null,
   "id": "9d9d2845-d607-4710-8c11-e7f56a7fe2e4",
   "metadata": {
    "tags": []
   },
   "outputs": [
    {
     "name": "stderr",
     "output_type": "stream",
     "text": [
      "C:\\Users\\balam\\anaconda3\\Lib\\site-packages\\pandas\\core\\arrays\\masked.py:60: UserWarning: Pandas requires version '1.3.6' or newer of 'bottleneck' (version '1.3.5' currently installed).\n",
      "  from pandas.core import (\n"
     ]
    },
    {
     "name": "stdout",
     "output_type": "stream",
     "text": [
      "Found 3482 images belonging to 2 classes.\n",
      "Found 870 images belonging to 2 classes.\n",
      "Found 4352 images belonging to 2 classes.\n",
      "Epoch 1/10\n",
      " 11/109 [==>...........................] - ETA: 10:11 - loss: 1.5152 - accuracy: 0.6165"
     ]
    },
    {
     "name": "stderr",
     "output_type": "stream",
     "text": [
      "C:\\Users\\balam\\anaconda3\\Lib\\site-packages\\PIL\\Image.py:975: UserWarning: Palette images with Transparency expressed in bytes should be converted to RGBA images\n",
      "  warnings.warn(\n"
     ]
    },
    {
     "name": "stdout",
     "output_type": "stream",
     "text": [
      "109/109 [==============================] - ETA: 0s - loss: 0.5361 - accuracy: 0.8021"
     ]
    }
   ],
   "source": [
    "from tensorflow.keras.applications import VGG16\n",
    "from tensorflow.keras.models import Model\n",
    "from tensorflow.keras.layers import Dense, Flatten\n",
    "from tensorflow.keras.optimizers import Adam\n",
    "from tensorflow.keras.preprocessing.image import ImageDataGenerator\n",
    "\n",
    "# Load the pretrained VGG-16 model\n",
    "base_model = VGG16(weights='imagenet', include_top=False, input_shape=(224, 224, 3))\n",
    "\n",
    "# Add custom layers on top\n",
    "x = Flatten()(base_model.output)\n",
    "x = Dense(128, activation='relu')(x)\n",
    "output = Dense(1, activation='sigmoid')(x)\n",
    "\n",
    "model = Model(inputs=base_model.input, outputs=output)\n",
    "\n",
    "# Freeze the base model layers\n",
    "for layer in base_model.layers:\n",
    "    layer.trainable = False\n",
    "\n",
    "# Compile the model\n",
    "model.compile(optimizer=Adam(learning_rate=0.001), loss='binary_crossentropy', metrics=['accuracy'])\n",
    "\n",
    "# Prepare the data\n",
    "train_data_gen = ImageDataGenerator(rescale=1./255, validation_split=0.2)\n",
    "train_gen = train_data_gen.flow_from_directory(\n",
    "    'C:/Users/balam/Documents/AIcancerACC/7 Cancers/data/',\n",
    "    target_size=(224, 224),\n",
    "    batch_size=32,\n",
    "    class_mode='binary',\n",
    "    subset='training'\n",
    ")\n",
    "val_gen = train_data_gen.flow_from_directory(\n",
    "    'C:/Users/balam/Documents/AIcancerACC/7 Cancers/data/',\n",
    "    target_size=(224, 224),\n",
    "    batch_size=32,\n",
    "    class_mode='binary',\n",
    "    subset='validation'\n",
    ")\n",
    "test_data_gen = ImageDataGenerator(rescale=1./255)\n",
    "test_gen = test_data_gen.flow_from_directory(\n",
    "    'C:/Users/balam/Documents/AIcancerACC/7 Cancers/data/',\n",
    "    target_size=(224, 224),\n",
    "    batch_size=32,\n",
    "    class_mode='binary'\n",
    ")\n",
    "\n",
    "# Train the model\n",
    "history = model.fit(train_gen, validation_data=val_gen, epochs=10, verbose=1)\n",
    "\n",
    "# Evaluate the model\n",
    "train_acc = model.evaluate(train_gen, verbose=0)[1]\n",
    "val_acc = model.evaluate(val_gen, verbose=0)[1]\n",
    "test_acc = model.evaluate(test_gen, verbose=0)[1]\n",
    "\n",
    "print(f\"Train Accuracy: {train_acc:.2f}\")\n",
    "print(f\"Validation Accuracy: {val_acc:.2f}\")\n",
    "print(f\"Test Accuracy: {test_acc:.2f}\")\n"
   ]
  },
  {
   "cell_type": "markdown",
   "id": "d684d36f-d784-462e-9753-755ee4314b52",
   "metadata": {},
   "source": [
    "## VGG 16"
   ]
  },
  {
   "cell_type": "code",
   "execution_count": 2,
   "id": "87c48106-3103-44a6-b37e-66be60871f31",
   "metadata": {
    "tags": []
   },
   "outputs": [
    {
     "ename": "NameError",
     "evalue": "name 'model' is not defined",
     "output_type": "error",
     "traceback": [
      "\u001b[1;31m---------------------------------------------------------------------------\u001b[0m",
      "\u001b[1;31mNameError\u001b[0m                                 Traceback (most recent call last)",
      "Cell \u001b[1;32mIn[2], line 2\u001b[0m\n\u001b[0;32m      1\u001b[0m \u001b[38;5;66;03m# Fit the model\u001b[39;00m\n\u001b[1;32m----> 2\u001b[0m history \u001b[38;5;241m=\u001b[39m model\u001b[38;5;241m.\u001b[39mfit(train_gen, validation_data\u001b[38;5;241m=\u001b[39mval_gen, epochs\u001b[38;5;241m=\u001b[39m\u001b[38;5;241m10\u001b[39m, verbose\u001b[38;5;241m=\u001b[39m\u001b[38;5;241m1\u001b[39m)\n\u001b[0;32m      4\u001b[0m \u001b[38;5;66;03m# Evaluate on train, validation, and test sets\u001b[39;00m\n\u001b[0;32m      5\u001b[0m train_acc \u001b[38;5;241m=\u001b[39m model\u001b[38;5;241m.\u001b[39mevaluate(train_gen, verbose\u001b[38;5;241m=\u001b[39m\u001b[38;5;241m0\u001b[39m)[\u001b[38;5;241m1\u001b[39m]\n",
      "\u001b[1;31mNameError\u001b[0m: name 'model' is not defined"
     ]
    }
   ],
   "source": [
    "# Fit the model\n",
    "history = model.fit(train_gen, validation_data=val_gen, epochs=10, verbose=1)\n",
    "\n",
    "# Evaluate on train, validation, and test sets\n",
    "train_acc = model.evaluate(train_gen, verbose=0)[1]\n",
    "val_acc = model.evaluate(val_gen, verbose=0)[1]\n",
    "test_acc = model.evaluate(test_gen, verbose=0)[1]\n",
    "\n",
    "print(f\"Train Accuracy: {train_acc:.2f}\")\n",
    "print(f\"Validation Accuracy: {val_acc:.2f}\")\n",
    "print(f\"Test Accuracy: {test_acc:.2f}\")\n"
   ]
  },
  {
   "cell_type": "code",
   "execution_count": null,
   "id": "3f571597-a268-490a-a8c3-971302a1f8c5",
   "metadata": {},
   "outputs": [],
   "source": []
  }
 ],
 "metadata": {
  "kernelspec": {
   "display_name": "Python 3 (ipykernel)",
   "language": "python",
   "name": "python3"
  },
  "language_info": {
   "codemirror_mode": {
    "name": "ipython",
    "version": 3
   },
   "file_extension": ".py",
   "mimetype": "text/x-python",
   "name": "python",
   "nbconvert_exporter": "python",
   "pygments_lexer": "ipython3",
   "version": "3.11.3"
  }
 },
 "nbformat": 4,
 "nbformat_minor": 5
}
